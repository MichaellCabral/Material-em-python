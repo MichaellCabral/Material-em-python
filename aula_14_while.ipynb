{
  "nbformat": 4,
  "nbformat_minor": 0,
  "metadata": {
    "colab": {
      "provenance": [],
      "authorship_tag": "ABX9TyNDquBHU/onhNRQ5wqHMmsu",
      "include_colab_link": true
    },
    "kernelspec": {
      "name": "python3",
      "display_name": "Python 3"
    },
    "language_info": {
      "name": "python"
    }
  },
  "cells": [
    {
      "cell_type": "markdown",
      "metadata": {
        "id": "view-in-github",
        "colab_type": "text"
      },
      "source": [
        "<a href=\"https://colab.research.google.com/github/MichaellCabral/Material-em-python/blob/main/aula_14_while.ipynb\" target=\"_parent\"><img src=\"https://colab.research.google.com/assets/colab-badge.svg\" alt=\"Open In Colab\"/></a>"
      ]
    },
    {
      "cell_type": "markdown",
      "source": [
        "# LAÇO FOR - DE 1 A 10"
      ],
      "metadata": {
        "id": "LcAUKWfRC0uX"
      }
    },
    {
      "cell_type": "code",
      "execution_count": null,
      "metadata": {
        "id": "Db7Pqa8EFTwH"
      },
      "outputs": [],
      "source": [
        "for c in range(1,11):\n",
        "    print(c)\n",
        "print('Fim')"
      ]
    },
    {
      "cell_type": "markdown",
      "source": [
        "# LAÇO WHILE - DE 01 A 10 "
      ],
      "metadata": {
        "id": "ha4Xez8BkJF1"
      }
    },
    {
      "cell_type": "code",
      "source": [
        "c = 1 # contador, pos começa a partir do número \"1\"\n",
        "while c < 10:\n",
        "    print(c)\n",
        "    c += 1 # Soma mais\n",
        "print('Fim')"
      ],
      "metadata": {
        "id": "T_-zSZAwkGtZ"
      },
      "execution_count": null,
      "outputs": []
    },
    {
      "cell_type": "markdown",
      "source": [
        "# LAÇO FOR - DE 1 A 3 COM LIMITE DE NÚMEROS"
      ],
      "metadata": {
        "id": "-46I5wSOC7cQ"
      }
    },
    {
      "cell_type": "code",
      "source": [
        "for c in range(1,4):\n",
        "    n = int(input('Digite um número: '))\n",
        "print('Fim')"
      ],
      "metadata": {
        "id": "6R9rTt4IM8hI",
        "colab": {
          "base_uri": "https://localhost:8080/"
        },
        "outputId": "a0621044-9087-4a0f-8218-b89150c648e0"
      },
      "execution_count": 6,
      "outputs": [
        {
          "output_type": "stream",
          "name": "stdout",
          "text": [
            "Digite um número: 1\n",
            "Digite um número: 2\n",
            "Digite um número: 3\n",
            "Fim\n"
          ]
        }
      ]
    },
    {
      "cell_type": "markdown",
      "source": [
        "#WHILE - ENQUANTO DIFERENTE DE \"0\" SEM LIMITE"
      ],
      "metadata": {
        "id": "TXePxVdOiOPC"
      }
    },
    {
      "cell_type": "code",
      "source": [
        "n = 1\n",
        "while n != 0: # enquanto n for diferente de 0: \"FLAG\" (condição de parada ou ponto de parada)\n",
        "    n = int(input('Digite um valor: ')) # digite o valor infinitamente\n",
        "print('Fim')"
      ],
      "metadata": {
        "id": "0kc1ZPsjPs9s",
        "colab": {
          "base_uri": "https://localhost:8080/"
        },
        "outputId": "fdb6344f-49fb-433d-babe-2ac8084d1760"
      },
      "execution_count": 7,
      "outputs": [
        {
          "output_type": "stream",
          "name": "stdout",
          "text": [
            "Digite um valor: 1\n",
            "Digite um valor: 2\n",
            "Digite um valor: 0\n",
            "Fim\n"
          ]
        }
      ]
    },
    {
      "cell_type": "markdown",
      "source": [
        "# WHILE - ENQUANTO \"S\" CONTINUA E \"N\" PARA O LAÇO"
      ],
      "metadata": {
        "id": "cJqn82laDA2_"
      }
    },
    {
      "cell_type": "code",
      "source": [
        "r = 'S'\n",
        "while r == 'S': # enquanto r == \"S\": continue \n",
        "    n = int(input('Digite um valor: '))\n",
        "    r = str(input('Quer continuar? [S/N] ')).upper() # .upper() = transforma o S em minuscula ou maiscula\n",
        "print('Fim')"
      ],
      "metadata": {
        "id": "UJZNRnQglNf6",
        "colab": {
          "base_uri": "https://localhost:8080/"
        },
        "outputId": "0a7cde22-2a9f-4d6a-cf3f-55055baa4948"
      },
      "execution_count": 8,
      "outputs": [
        {
          "output_type": "stream",
          "name": "stdout",
          "text": [
            "Digite um valor: 1\n",
            "Quer continuar? [S/N] s\n",
            "Digite um valor: 2\n",
            "Quer continuar? [S/N] n\n",
            "Fim\n"
          ]
        }
      ]
    },
    {
      "cell_type": "markdown",
      "source": [
        "#QUANTIDADE DE PARES E IMPARES ATÉ QUE ZERO SEJA DIGITADO"
      ],
      "metadata": {
        "id": "oA0SIdi0ky-l"
      }
    },
    {
      "cell_type": "code",
      "source": [
        "n = 1 \n",
        "par = impar = 0\n",
        "while n != 0:\n",
        "    n = int(input('Digite um valor: '))\n",
        "    if n != 0: # Se o \"n\" for diferente de zero funciona o laço abaixo\n",
        "        if n % 2 == 0: # se o número for par (resto da divisão por 2 igual a zero) então\n",
        "            par += 1 # numero par soma mais 01 no laço\n",
        "        else: # se não for par (é ímpar) então:\n",
        "            impar += 1\n",
        "print(f'Você digitou {par} numeros pares e {impar} números ímpares!')"
      ],
      "metadata": {
        "colab": {
          "base_uri": "https://localhost:8080/"
        },
        "id": "92qgDQXDjQjE",
        "outputId": "35e4a2f7-d1f0-40f3-917a-2b1db3b58a41"
      },
      "execution_count": 9,
      "outputs": [
        {
          "output_type": "stream",
          "name": "stdout",
          "text": [
            "Digite um valor: 1\n",
            "Digite um valor: 1\n",
            "Digite um valor: 1\n",
            "Digite um valor: 3\n",
            "Digite um valor: 3\n",
            "Digite um valor: 3\n",
            "Digite um valor: 0\n",
            "Você digitou 0 numeros pares e 6 números ímpares!\n"
          ]
        }
      ]
    }
  ]
}