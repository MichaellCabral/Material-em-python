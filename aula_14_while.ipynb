{
  "cells": [
    {
      "cell_type": "markdown",
      "metadata": {
        "colab_type": "text",
        "id": "view-in-github"
      },
      "source": [
        "<a href=\"https://colab.research.google.com/github/MichaellCabral/Material-em-python/blob/main/aula_14_while.ipynb\" target=\"_parent\"><img src=\"https://colab.research.google.com/assets/colab-badge.svg\" alt=\"Open In Colab\"/></a>"
      ]
    },
    {
      "cell_type": "markdown",
      "metadata": {
        "id": "LcAUKWfRC0uX"
      },
      "source": [
        "# LAÇO FOR - DE 1 A 10"
      ]
    },
    {
      "cell_type": "code",
      "execution_count": null,
      "metadata": {
        "id": "Db7Pqa8EFTwH"
      },
      "outputs": [],
      "source": [
        "for c in range(1,11):\n",
        "    print(c)\n",
        "print('Fim')"
      ]
    },
    {
      "cell_type": "markdown",
      "metadata": {
        "id": "ha4Xez8BkJF1"
      },
      "source": [
        "# LAÇO WHILE - DE 01 A 10 "
      ]
    },
    {
      "cell_type": "code",
      "execution_count": null,
      "metadata": {
        "id": "T_-zSZAwkGtZ"
      },
      "outputs": [],
      "source": [
        "c = 1 # contador, pos começa a partir do número \"1\"\n",
        "while c < 10:\n",
        "    print(c)\n",
        "    c += 1 # Soma mais\n",
        "print('Fim')"
      ]
    },
    {
      "cell_type": "markdown",
      "metadata": {
        "id": "-46I5wSOC7cQ"
      },
      "source": [
        "# LAÇO FOR - DE 1 A 3 COM LIMITE DE NÚMEROS"
      ]
    },
    {
      "cell_type": "code",
      "execution_count": 6,
      "metadata": {
        "colab": {
          "base_uri": "https://localhost:8080/"
        },
        "id": "6R9rTt4IM8hI",
        "outputId": "a0621044-9087-4a0f-8218-b89150c648e0"
      },
      "outputs": [
        {
          "name": "stdout",
          "output_type": "stream",
          "text": [
            "Digite um número: 1\n",
            "Digite um número: 2\n",
            "Digite um número: 3\n",
            "Fim\n"
          ]
        }
      ],
      "source": [
        "for c in range(1,4):\n",
        "    n = int(input('Digite um número: '))\n",
        "print('Fim')"
      ]
    },
    {
      "cell_type": "markdown",
      "metadata": {
        "id": "TXePxVdOiOPC"
      },
      "source": [
        "#WHILE - ENQUANTO DIFERENTE DE \"0\" SEM LIMITE"
      ]
    },
    {
      "cell_type": "code",
      "execution_count": 7,
      "metadata": {
        "colab": {
          "base_uri": "https://localhost:8080/"
        },
        "id": "0kc1ZPsjPs9s",
        "outputId": "fdb6344f-49fb-433d-babe-2ac8084d1760"
      },
      "outputs": [
        {
          "name": "stdout",
          "output_type": "stream",
          "text": [
            "Digite um valor: 1\n",
            "Digite um valor: 2\n",
            "Digite um valor: 0\n",
            "Fim\n"
          ]
        }
      ],
      "source": [
        "n = 1\n",
        "while n != 0: # enquanto n for diferente de 0: \"FLAG\" (condição de parada ou ponto de parada)\n",
        "    n = int(input('Digite um valor: ')) # digite o valor infinitamente\n",
        "print('Fim')"
      ]
    },
    {
      "cell_type": "markdown",
      "metadata": {
        "id": "cJqn82laDA2_"
      },
      "source": [
        "# WHILE - ENQUANTO \"S\" CONTINUA E \"N\" PARA O LAÇO"
      ]
    },
    {
      "cell_type": "code",
      "execution_count": 8,
      "metadata": {
        "colab": {
          "base_uri": "https://localhost:8080/"
        },
        "id": "UJZNRnQglNf6",
        "outputId": "0a7cde22-2a9f-4d6a-cf3f-55055baa4948"
      },
      "outputs": [
        {
          "name": "stdout",
          "output_type": "stream",
          "text": [
            "Digite um valor: 1\n",
            "Quer continuar? [S/N] s\n",
            "Digite um valor: 2\n",
            "Quer continuar? [S/N] n\n",
            "Fim\n"
          ]
        }
      ],
      "source": [
        "r = 'S'\n",
        "while r == 'S': # enquanto r == \"S\": continue \n",
        "    n = int(input('Digite um valor: '))\n",
        "    r = str(input('Quer continuar? [S/N] ')).upper() # .upper() = transforma o S em minuscula ou maiscula\n",
        "print('Fim')"
      ]
    },
    {
      "cell_type": "markdown",
      "metadata": {
        "id": "oA0SIdi0ky-l"
      },
      "source": [
        "#QUANTIDADE DE PARES E IMPARES ATÉ QUE ZERO SEJA DIGITADO"
      ]
    },
    {
      "cell_type": "code",
      "execution_count": 9,
      "metadata": {
        "colab": {
          "base_uri": "https://localhost:8080/"
        },
        "id": "92qgDQXDjQjE",
        "outputId": "35e4a2f7-d1f0-40f3-917a-2b1db3b58a41"
      },
      "outputs": [
        {
          "name": "stdout",
          "output_type": "stream",
          "text": [
            "Digite um valor: 1\n",
            "Digite um valor: 1\n",
            "Digite um valor: 1\n",
            "Digite um valor: 3\n",
            "Digite um valor: 3\n",
            "Digite um valor: 3\n",
            "Digite um valor: 0\n",
            "Você digitou 0 numeros pares e 6 números ímpares!\n"
          ]
        }
      ],
      "source": [
        "n = 1 \n",
        "par = impar = 0\n",
        "while n != 0:\n",
        "    n = int(input('Digite um valor: '))\n",
        "    if n != 0: # Se o \"n\" for diferente de zero funciona o laço abaixo\n",
        "        if n % 2 == 0: # se o número for par (resto da divisão por 2 igual a zero) então\n",
        "            par += 1 # numero par soma mais 01 no laço\n",
        "        else: # se não for par (é ímpar) então:\n",
        "            impar += 1\n",
        "print(f'Você digitou {par} numeros pares e {impar} números ímpares!')"
      ]
    }
  ],
  "metadata": {
    "colab": {
      "authorship_tag": "ABX9TyNDquBHU/onhNRQ5wqHMmsu",
      "include_colab_link": true,
      "provenance": []
    },
    "kernelspec": {
      "display_name": "Python 3.10.4 64-bit",
      "language": "python",
      "name": "python3"
    },
    "language_info": {
      "codemirror_mode": {
        "name": "ipython",
        "version": 3
      },
      "file_extension": ".py",
      "mimetype": "text/x-python",
      "name": "python",
      "nbconvert_exporter": "python",
      "pygments_lexer": "ipython3",
      "version": "3.10.4"
    },
    "vscode": {
      "interpreter": {
        "hash": "dfdc3e9b21daf9c3fbeb8d1e81808c890b8217925e07b2843bac71b154ba8a23"
      }
    }
  },
  "nbformat": 4,
  "nbformat_minor": 0
}
